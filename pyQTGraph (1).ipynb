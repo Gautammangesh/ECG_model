{
  "cells": [
    {
      "cell_type": "code",
      "execution_count": 1,
      "metadata": {
        "colab": {
          "base_uri": "https://localhost:8080/"
        },
        "id": "7dEQAoXvrqRd",
        "outputId": "d713d012-ccd7-49a9-aa61-eafd928923a9"
      },
      "outputs": [
        {
          "output_type": "stream",
          "name": "stdout",
          "text": [
            "Drive already mounted at /content/drive; to attempt to forcibly remount, call drive.mount(\"/content/drive\", force_remount=True).\n"
          ]
        }
      ],
      "source": [
        "from google.colab import drive\n",
        "drive.mount('/content/drive')"
      ]
    },
    {
      "cell_type": "code",
      "execution_count": 2,
      "metadata": {
        "colab": {
          "base_uri": "https://localhost:8080/"
        },
        "id": "GwMBL9Ezo_97",
        "outputId": "a3bdbe2c-c1f5-44e4-d6a0-e831ed15d3d5"
      },
      "outputs": [
        {
          "output_type": "stream",
          "name": "stdout",
          "text": [
            "Collecting fastapi\n",
            "  Downloading fastapi-0.115.12-py3-none-any.whl.metadata (27 kB)\n",
            "Collecting uvicorn\n",
            "  Downloading uvicorn-0.34.0-py3-none-any.whl.metadata (6.5 kB)\n",
            "Requirement already satisfied: numpy in /usr/local/lib/python3.11/dist-packages (2.0.2)\n",
            "Requirement already satisfied: nest_asyncio in /usr/local/lib/python3.11/dist-packages (1.6.0)\n",
            "Collecting pyngrok\n",
            "  Downloading pyngrok-7.2.3-py3-none-any.whl.metadata (8.7 kB)\n",
            "Collecting starlette<0.47.0,>=0.40.0 (from fastapi)\n",
            "  Downloading starlette-0.46.1-py3-none-any.whl.metadata (6.2 kB)\n",
            "Requirement already satisfied: pydantic!=1.8,!=1.8.1,!=2.0.0,!=2.0.1,!=2.1.0,<3.0.0,>=1.7.4 in /usr/local/lib/python3.11/dist-packages (from fastapi) (2.10.6)\n",
            "Requirement already satisfied: typing-extensions>=4.8.0 in /usr/local/lib/python3.11/dist-packages (from fastapi) (4.12.2)\n",
            "Requirement already satisfied: click>=7.0 in /usr/local/lib/python3.11/dist-packages (from uvicorn) (8.1.8)\n",
            "Requirement already satisfied: h11>=0.8 in /usr/local/lib/python3.11/dist-packages (from uvicorn) (0.14.0)\n",
            "Requirement already satisfied: PyYAML>=5.1 in /usr/local/lib/python3.11/dist-packages (from pyngrok) (6.0.2)\n",
            "Requirement already satisfied: annotated-types>=0.6.0 in /usr/local/lib/python3.11/dist-packages (from pydantic!=1.8,!=1.8.1,!=2.0.0,!=2.0.1,!=2.1.0,<3.0.0,>=1.7.4->fastapi) (0.7.0)\n",
            "Requirement already satisfied: pydantic-core==2.27.2 in /usr/local/lib/python3.11/dist-packages (from pydantic!=1.8,!=1.8.1,!=2.0.0,!=2.0.1,!=2.1.0,<3.0.0,>=1.7.4->fastapi) (2.27.2)\n",
            "Requirement already satisfied: anyio<5,>=3.6.2 in /usr/local/lib/python3.11/dist-packages (from starlette<0.47.0,>=0.40.0->fastapi) (4.9.0)\n",
            "Requirement already satisfied: idna>=2.8 in /usr/local/lib/python3.11/dist-packages (from anyio<5,>=3.6.2->starlette<0.47.0,>=0.40.0->fastapi) (3.10)\n",
            "Requirement already satisfied: sniffio>=1.1 in /usr/local/lib/python3.11/dist-packages (from anyio<5,>=3.6.2->starlette<0.47.0,>=0.40.0->fastapi) (1.3.1)\n",
            "Downloading fastapi-0.115.12-py3-none-any.whl (95 kB)\n",
            "\u001b[2K   \u001b[90m━━━━━━━━━━━━━━━━━━━━━━━━━━━━━━━━━━━━━━━━\u001b[0m \u001b[32m95.2/95.2 kB\u001b[0m \u001b[31m6.7 MB/s\u001b[0m eta \u001b[36m0:00:00\u001b[0m\n",
            "\u001b[?25hDownloading uvicorn-0.34.0-py3-none-any.whl (62 kB)\n",
            "\u001b[2K   \u001b[90m━━━━━━━━━━━━━━━━━━━━━━━━━━━━━━━━━━━━━━━━\u001b[0m \u001b[32m62.3/62.3 kB\u001b[0m \u001b[31m5.9 MB/s\u001b[0m eta \u001b[36m0:00:00\u001b[0m\n",
            "\u001b[?25hDownloading pyngrok-7.2.3-py3-none-any.whl (23 kB)\n",
            "Downloading starlette-0.46.1-py3-none-any.whl (71 kB)\n",
            "\u001b[2K   \u001b[90m━━━━━━━━━━━━━━━━━━━━━━━━━━━━━━━━━━━━━━━━\u001b[0m \u001b[32m72.0/72.0 kB\u001b[0m \u001b[31m6.1 MB/s\u001b[0m eta \u001b[36m0:00:00\u001b[0m\n",
            "\u001b[?25hInstalling collected packages: uvicorn, pyngrok, starlette, fastapi\n",
            "Successfully installed fastapi-0.115.12 pyngrok-7.2.3 starlette-0.46.1 uvicorn-0.34.0\n"
          ]
        }
      ],
      "source": [
        "!pip install fastapi uvicorn numpy nest_asyncio pyngrok\n"
      ]
    },
    {
      "cell_type": "code",
      "execution_count": 3,
      "metadata": {
        "colab": {
          "base_uri": "https://localhost:8080/"
        },
        "id": "u3nyN8H5sN88",
        "outputId": "7a32f607-7185-4392-d0df-887eeba2c911"
      },
      "outputs": [
        {
          "output_type": "stream",
          "name": "stdout",
          "text": [
            "Authtoken saved to configuration file: /root/.config/ngrok/ngrok.yml\n"
          ]
        }
      ],
      "source": [
        "!ngrok config add-authtoken 2ukYFbl5XHexX3hDsOpYSnABfex_5ApsW6UsEqz23HpEUVpVx"
      ]
    },
    {
      "cell_type": "code",
      "source": [
        "import uvicorn\n",
        "from fastapi import FastAPI, WebSocket\n",
        "import pandas as pd\n",
        "import numpy as np\n",
        "import asyncio\n",
        "import nest_asyncio\n",
        "from pyngrok import ngrok\n",
        "from scipy.signal import butter, filtfilt, find_peaks\n",
        "from fastapi.middleware.cors import CORSMiddleware  # CORS middleware\n",
        "\n",
        "nest_asyncio.apply()\n",
        "\n",
        "# Load ECG dataset\n",
        "file_path = \"/content/drive/MyDrive/Mangesh/Patient-Idcsv.csv\"\n",
        "df = pd.read_csv(file_path)\n",
        "\n",
        "# Bandpass Filter Function\n",
        "def bandpass_filter(data, lowcut=0.5, highcut=50.0, fs=250, order=2):\n",
        "    nyquist = 0.5 * fs\n",
        "    low = lowcut / nyquist\n",
        "    high = highcut / nyquist\n",
        "    b, a = butter(order, [low, high], btype='band')\n",
        "    return filtfilt(b, a, data)\n",
        "\n",
        "# Normalize function\n",
        "def normalize(data):\n",
        "    return (data - np.min(data)) / (np.max(data) - np.min(data))\n",
        "\n",
        "# Extract and process ECG data\n",
        "def get_ecg_data():\n",
        "    fs = 250  # Sampling frequency\n",
        "    for _, row in df.iterrows():\n",
        "        ecg_signal = np.array(list(map(int, row['ValueStr'].split(','))))  # Convert string to list of integers\n",
        "        filtered_ecg = bandpass_filter(ecg_signal, lowcut=0.5, highcut=50.0, fs=fs)\n",
        "        is_inverted = np.max(filtered_ecg) < abs(np.min(filtered_ecg))\n",
        "        processed_ecg = -filtered_ecg if is_inverted else filtered_ecg\n",
        "        normalized_ecg = normalize(processed_ecg)\n",
        "        r_peaks, _ = find_peaks(normalized_ecg, distance=fs//2, height=np.mean(normalized_ecg) + np.std(normalized_ecg))\n",
        "\n",
        "        # Generate response\n",
        "        yield {\n",
        "            \"time\": list(range(len(normalized_ecg))),\n",
        "            \"values\": normalized_ecg.tolist(),\n",
        "            \"r_peaks\": r_peaks.tolist(),\n",
        "        }\n",
        "\n",
        "# FastAPI Setup\n",
        "app = FastAPI()\n",
        "\n",
        "# Enable CORS for WebSocket connections\n",
        "app.add_middleware(\n",
        "    CORSMiddleware,\n",
        "    allow_origins=[\"*\"],  # Allow all origins\n",
        "    allow_credentials=True,\n",
        "    allow_methods=[\"*\"],\n",
        "    allow_headers=[\"*\"],\n",
        ")\n",
        "\n",
        "async def send_ecg_data(websocket: WebSocket):\n",
        "    await websocket.accept()\n",
        "    print(\"Client connected!\")  # Debugging log\n",
        "    try:\n",
        "        for data in get_ecg_data():\n",
        "            await websocket.send_json(data)\n",
        "            await asyncio.sleep(0.5)  # Simulate real-time data feed\n",
        "    except Exception as e:\n",
        "        print(f\"Error: {e}\")  # Print error if any\n",
        "    finally:\n",
        "        print(\"Client disconnected!\")  # Debugging log\n",
        "\n",
        "@app.websocket(\"/ws\")\n",
        "async def websocket_endpoint(websocket: WebSocket):\n",
        "    await send_ecg_data(websocket)\n",
        "\n",
        "# Start FastAPI server\n",
        "port = 8000\n",
        "public_url = ngrok.connect(port).public_url\n",
        "print(f\"Public WebSocket URL: {public_url}/ws\")  # Copy this URL and use in index.html\n",
        "\n",
        "uvicorn.run(app, host=\"0.0.0.0\", port=port)\n"
      ],
      "metadata": {
        "colab": {
          "base_uri": "https://localhost:8080/"
        },
        "id": "kZJPWqUdM1wE",
        "outputId": "77d0af2c-7080-4afb-c531-d79bbd087f92"
      },
      "execution_count": null,
      "outputs": [
        {
          "output_type": "stream",
          "name": "stderr",
          "text": [
            "INFO:     Started server process [945]\n",
            "INFO:     Waiting for application startup.\n",
            "INFO:     Application startup complete.\n",
            "INFO:     Uvicorn running on http://0.0.0.0:8000 (Press CTRL+C to quit)\n"
          ]
        },
        {
          "output_type": "stream",
          "name": "stdout",
          "text": [
            "Public WebSocket URL: https://9bdd-34-16-147-6.ngrok-free.app/ws\n"
          ]
        },
        {
          "output_type": "stream",
          "name": "stderr",
          "text": [
            "INFO:     ('202.179.92.106', 0) - \"WebSocket /ws\" [accepted]\n",
            "INFO:     connection open\n"
          ]
        },
        {
          "output_type": "stream",
          "name": "stdout",
          "text": [
            "Client connected!\n"
          ]
        }
      ]
    },
    {
      "cell_type": "markdown",
      "source": [],
      "metadata": {
        "id": "_oejULD2QOFj"
      }
    },
    {
      "cell_type": "code",
      "source": [],
      "metadata": {
        "id": "wRGlF5DdPoCi"
      },
      "execution_count": null,
      "outputs": []
    }
  ],
  "metadata": {
    "colab": {
      "provenance": [],
      "gpuType": "T4"
    },
    "kernelspec": {
      "display_name": "Python 3",
      "name": "python3"
    },
    "language_info": {
      "name": "python"
    },
    "accelerator": "GPU"
  },
  "nbformat": 4,
  "nbformat_minor": 0
}